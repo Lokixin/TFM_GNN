{
 "cells": [
  {
   "cell_type": "code",
   "execution_count": 1,
   "metadata": {},
   "outputs": [],
   "source": [
    "import math\n",
    "import torch\n",
    "import torch.nn.functional as F\n",
    "from torch import nn\n",
    "from torch.utils.data import Dataset, DataLoader\n",
    "from torchvision import transforms\n",
    "\n",
    "import pandas as pd\n",
    "\n",
    "from entities.graphs.data_reader import read_record\n",
    "from entities.graphs.graph_builder import RawAndPearson, MomentsAndPearson"
   ]
  },
  {
   "cell_type": "code",
   "execution_count": 2,
   "metadata": {},
   "outputs": [],
   "source": [
    "PATH = \"C:/Projects/TFM/dataset/AD_MCI_HC_WINDOWED\"\n",
    "INDEX_PATH = \"C:/Projects/TFM/dataset/AD_MCI_HC_WINDOWED/data.csv\""
   ]
  },
  {
   "cell_type": "code",
   "execution_count": 3,
   "metadata": {},
   "outputs": [],
   "source": [
    "hyperparams = {\n",
    "    \"batch_size\": 64,\n",
    "    \"lr\": 0.1,\n",
    "    \"momentum\": 0.9,\n",
    "    \"epochs\": 100\n",
    "}"
   ]
  },
  {
   "cell_type": "code",
   "execution_count": 4,
   "metadata": {},
   "outputs": [],
   "source": [
    "from sklearn.model_selection import train_test_split\n",
    "\n",
    "# Removing MCI patients to retrieve only HC and AD subjects for binary classification\n",
    "indices = pd.read_csv(INDEX_PATH, index_col=\"Unnamed: 0\")\n",
    "indices = indices.drop(indices[indices.label == \"MCI\"].index)\n",
    "indices_hc = indices[indices.label == 'HC'].sample(frac=0.4)\n",
    "indices_ad = indices[indices.label == 'AD']\n",
    "indices = pd.concat([indices_hc, indices_ad])\n",
    "\n",
    "train_data, test_data = train_test_split(indices, shuffle=True)"
   ]
  },
  {
   "cell_type": "code",
   "execution_count": 5,
   "metadata": {},
   "outputs": [],
   "source": [
    "\n",
    "class EEGDataset(Dataset):\n",
    "    def __init__(self, indices, builder, transform=None):\n",
    "        self.index_df = indices\n",
    "        self.transform = transform\n",
    "        self.builder = builder\n",
    "        \n",
    "    def __len__(self):\n",
    "        return len(self.index_df)\n",
    "    \n",
    "    def __getitem__(self, idx):\n",
    "        current_path = self.index_df.iloc[idx][\"path\"]\n",
    "        raw_data = read_record(current_path)\n",
    "        label = self.index_df.iloc[idx][\"label\"]\n",
    "        data = self.builder.build(raw_data, label)\n",
    "        sample = {\n",
    "            \"x\": data.x,\n",
    "            \"edge_attr\": data.edge_attr,\n",
    "            \"edge_index\": data.edge_index,\n",
    "            \"label\": data.label\n",
    "        }\n",
    "        return sample"
   ]
  },
  {
   "cell_type": "code",
   "execution_count": 6,
   "metadata": {},
   "outputs": [],
   "source": [
    "transform = transforms.Compose(\n",
    "    [transforms.ToTensor()]\n",
    ") \n",
    "\n",
    "builder = MomentsAndPearson()\n",
    "train_dataset = EEGDataset(train_data, builder, transform=transform)\n",
    "test_dataset = EEGDataset(test_data, builder, transform=transform)"
   ]
  },
  {
   "cell_type": "code",
   "execution_count": 7,
   "metadata": {},
   "outputs": [
    {
     "name": "stdout",
     "output_type": "stream",
     "text": [
      "Element 0: Nodes: torch.Size([19, 6]), Edge attributes: torch.Size([19, 19]), Label: 0\n",
      "Element 1: Nodes: torch.Size([19, 6]), Edge attributes: torch.Size([19, 19]), Label: 0\n",
      "Element 2: Nodes: torch.Size([19, 6]), Edge attributes: torch.Size([19, 19]), Label: 0\n",
      "Element 3: Nodes: torch.Size([19, 6]), Edge attributes: torch.Size([19, 19]), Label: 0\n",
      "Element 4: Nodes: torch.Size([19, 6]), Edge attributes: torch.Size([19, 19]), Label: 1\n",
      "Element 5: Nodes: torch.Size([19, 6]), Edge attributes: torch.Size([19, 19]), Label: 0\n",
      "Element 6: Nodes: torch.Size([19, 6]), Edge attributes: torch.Size([19, 19]), Label: 1\n",
      "Element 7: Nodes: torch.Size([19, 6]), Edge attributes: torch.Size([19, 19]), Label: 0\n",
      "Element 8: Nodes: torch.Size([19, 6]), Edge attributes: torch.Size([19, 19]), Label: 0\n",
      "Element 9: Nodes: torch.Size([19, 6]), Edge attributes: torch.Size([19, 19]), Label: 1\n",
      "Element 10: Nodes: torch.Size([19, 6]), Edge attributes: torch.Size([19, 19]), Label: 1\n"
     ]
    }
   ],
   "source": [
    "for i, sample in enumerate(train_dataset):\n",
    "    print(f\"Element {i}: Nodes: {sample['x'].size()}, Edge attributes: {sample['edge_attr'].size()}, Label: {sample['label']}\")\n",
    "    if i == 10: break"
   ]
  },
  {
   "cell_type": "code",
   "execution_count": 5,
   "metadata": {},
   "outputs": [
    {
     "name": "stdout",
     "output_type": "stream",
     "text": [
      "Input tensor: torch.Size([128, 19, 1280])\n",
      "Output Attention: torch.Size([128, 19, 1280])\n"
     ]
    },
    {
     "ename": "RuntimeError",
     "evalue": "scatter(): Expected dtype int64 for index",
     "output_type": "error",
     "traceback": [
      "\u001b[1;31m---------------------------------------------------------------------------\u001b[0m",
      "\u001b[1;31mRuntimeError\u001b[0m                              Traceback (most recent call last)",
      "\u001b[1;32mc:\\Users\\lokix\\OneDrive\\Documents\\univsersidad\\MASTER\\1B\\TFM\\src_v3\\experiment.ipynb Cell 5'\u001b[0m in \u001b[0;36m<cell line: 28>\u001b[1;34m()\u001b[0m\n\u001b[0;32m     <a href='vscode-notebook-cell:/c%3A/Users/lokix/OneDrive/Documents/univsersidad/MASTER/1B/TFM/src_v3/experiment.ipynb#ch0000004?line=24'>25</a>\u001b[0m \u001b[39mprint\u001b[39m(\u001b[39mf\u001b[39m\u001b[39m\"\u001b[39m\u001b[39mOutput Attention: \u001b[39m\u001b[39m{\u001b[39;00moutput\u001b[39m.\u001b[39msize()\u001b[39m}\u001b[39;00m\u001b[39m\"\u001b[39m)\n\u001b[0;32m     <a href='vscode-notebook-cell:/c%3A/Users/lokix/OneDrive/Documents/univsersidad/MASTER/1B/TFM/src_v3/experiment.ipynb#ch0000004?line=25'>26</a>\u001b[0m \u001b[39m#output = conv1(output)\u001b[39;00m\n\u001b[0;32m     <a href='vscode-notebook-cell:/c%3A/Users/lokix/OneDrive/Documents/univsersidad/MASTER/1B/TFM/src_v3/experiment.ipynb#ch0000004?line=26'>27</a>\u001b[0m \u001b[39m#Çprint(f\"Conv1d output: {output.size()}\")\u001b[39;00m\n\u001b[1;32m---> <a href='vscode-notebook-cell:/c%3A/Users/lokix/OneDrive/Documents/univsersidad/MASTER/1B/TFM/src_v3/experiment.ipynb#ch0000004?line=27'>28</a>\u001b[0m global_add_pool(output, batch\u001b[39m=\u001b[39;49m\u001b[39minput\u001b[39;49m)\u001b[39m.\u001b[39msize()\n",
      "File \u001b[1;32mc:\\Users\\lokix\\Envs\\tfm\\lib\\site-packages\\torch_geometric\\nn\\glob\\glob.py:28\u001b[0m, in \u001b[0;36mglobal_add_pool\u001b[1;34m(x, batch, size)\u001b[0m\n\u001b[0;32m     26\u001b[0m     \u001b[39mreturn\u001b[39;00m x\u001b[39m.\u001b[39msum(dim\u001b[39m=\u001b[39m\u001b[39m0\u001b[39m, keepdim\u001b[39m=\u001b[39m\u001b[39mTrue\u001b[39;00m)\n\u001b[0;32m     27\u001b[0m size \u001b[39m=\u001b[39m \u001b[39mint\u001b[39m(batch\u001b[39m.\u001b[39mmax()\u001b[39m.\u001b[39mitem() \u001b[39m+\u001b[39m \u001b[39m1\u001b[39m) \u001b[39mif\u001b[39;00m size \u001b[39mis\u001b[39;00m \u001b[39mNone\u001b[39;00m \u001b[39melse\u001b[39;00m size\n\u001b[1;32m---> 28\u001b[0m \u001b[39mreturn\u001b[39;00m scatter(x, batch, dim\u001b[39m=\u001b[39;49m\u001b[39m0\u001b[39;49m, dim_size\u001b[39m=\u001b[39;49msize, reduce\u001b[39m=\u001b[39;49m\u001b[39m'\u001b[39;49m\u001b[39madd\u001b[39;49m\u001b[39m'\u001b[39;49m)\n",
      "File \u001b[1;32mc:\\Users\\lokix\\Envs\\tfm\\lib\\site-packages\\torch_scatter\\scatter.py:152\u001b[0m, in \u001b[0;36mscatter\u001b[1;34m(src, index, dim, out, dim_size, reduce)\u001b[0m\n\u001b[0;32m     78\u001b[0m \u001b[39mr\u001b[39m\u001b[39m\"\"\"\u001b[39;00m\n\u001b[0;32m     79\u001b[0m \u001b[39m|\u001b[39;00m\n\u001b[0;32m     80\u001b[0m \n\u001b[1;32m   (...)\u001b[0m\n\u001b[0;32m    149\u001b[0m \u001b[39m    torch.Size([10, 3, 64])\u001b[39;00m\n\u001b[0;32m    150\u001b[0m \u001b[39m\"\"\"\u001b[39;00m\n\u001b[0;32m    151\u001b[0m \u001b[39mif\u001b[39;00m reduce \u001b[39m==\u001b[39m \u001b[39m'\u001b[39m\u001b[39msum\u001b[39m\u001b[39m'\u001b[39m \u001b[39mor\u001b[39;00m reduce \u001b[39m==\u001b[39m \u001b[39m'\u001b[39m\u001b[39madd\u001b[39m\u001b[39m'\u001b[39m:\n\u001b[1;32m--> 152\u001b[0m     \u001b[39mreturn\u001b[39;00m scatter_sum(src, index, dim, out, dim_size)\n\u001b[0;32m    153\u001b[0m \u001b[39mif\u001b[39;00m reduce \u001b[39m==\u001b[39m \u001b[39m'\u001b[39m\u001b[39mmul\u001b[39m\u001b[39m'\u001b[39m:\n\u001b[0;32m    154\u001b[0m     \u001b[39mreturn\u001b[39;00m scatter_mul(src, index, dim, out, dim_size)\n",
      "File \u001b[1;32mc:\\Users\\lokix\\Envs\\tfm\\lib\\site-packages\\torch_scatter\\scatter.py:21\u001b[0m, in \u001b[0;36mscatter_sum\u001b[1;34m(src, index, dim, out, dim_size)\u001b[0m\n\u001b[0;32m     19\u001b[0m         size[dim] \u001b[39m=\u001b[39m \u001b[39mint\u001b[39m(index\u001b[39m.\u001b[39mmax()) \u001b[39m+\u001b[39m \u001b[39m1\u001b[39m\n\u001b[0;32m     20\u001b[0m     out \u001b[39m=\u001b[39m torch\u001b[39m.\u001b[39mzeros(size, dtype\u001b[39m=\u001b[39msrc\u001b[39m.\u001b[39mdtype, device\u001b[39m=\u001b[39msrc\u001b[39m.\u001b[39mdevice)\n\u001b[1;32m---> 21\u001b[0m     \u001b[39mreturn\u001b[39;00m out\u001b[39m.\u001b[39;49mscatter_add_(dim, index, src)\n\u001b[0;32m     22\u001b[0m \u001b[39melse\u001b[39;00m:\n\u001b[0;32m     23\u001b[0m     \u001b[39mreturn\u001b[39;00m out\u001b[39m.\u001b[39mscatter_add_(dim, index, src)\n",
      "\u001b[1;31mRuntimeError\u001b[0m: scatter(): Expected dtype int64 for index"
     ]
    }
   ],
   "source": [
    "import torch\n",
    "from itertools import product\n",
    "from torch import nn\n",
    "from torch_geometric.nn import GCNConv, ChebConv, GATConv, GATv2Conv, TransformerConv, global_add_pool\n",
    "from torch_geometric.data import Data\n",
    "\n",
    "\n",
    "transformer = TransformerConv(6, 32, heads=2)\n",
    "gatconv = GATv2Conv(6, 32, heads=2)\n",
    "attention = nn.MultiheadAttention(1280, num_heads=2, batch_first=True)\n",
    "conv1 = nn.Conv2d(19, 1, kernel_size=1)\n",
    "pool = nn.AvgPool2d(3)\n",
    "\n",
    "\n",
    "input = torch.rand(128, 19, 1280)\n",
    "weights = torch.rand(19, 19)\n",
    "edge_index = torch.tensor([[a, b] for a, b in product(range(19), range(19))]).t().contiguous()\n",
    "#graph = Data(x=input, edge_index=edge_index)\n",
    "print(f\"Input tensor: {input.size()}\")\n",
    "\n",
    "#output = transformer(input, edge_index)\n",
    "#print(f\"Output GATConv: {output.size()}\")\n",
    "\n",
    "output, weights = attention(key=input, value=input, query=input, average_attn_weights=False)\n",
    "print(f\"Output Attention: {output.size()}\")\n",
    "#output = conv1(output)\n",
    "#Çprint(f\"Conv1d output: {output.size()}\")\n",
    "global_add_pool(output, batch=input).size()"
   ]
  },
  {
   "cell_type": "markdown",
   "metadata": {},
   "source": [
    "## AugtoGL"
   ]
  },
  {
   "cell_type": "code",
   "execution_count": 6,
   "metadata": {},
   "outputs": [],
   "source": [
    "class BaseDataset(Dataset):\n",
    "    def __init__(self, indices, builder, transform=None, target_transform=None):\n",
    "        self.indices = indices\n",
    "        self.builder = builder\n",
    "        self.transform = transform\n",
    "        self.target_transform = target_transform\n",
    "        \n",
    "\n",
    "    def __len__(self):\n",
    "        return len(self.indices)\n",
    "\n",
    "    def __getitem__(self, idx):\n",
    "        current_path = self.indices.iloc[idx][\"path\"]\n",
    "        raw_data = read_record(current_path)\n",
    "        label = self.indices.iloc[idx][\"label\"]\n",
    "        data = self.builder.build(raw_data, label)\n",
    "        return data\n",
    "    \n",
    "class OfflineDataset(Dataset):\n",
    "    def __init__(self, node_indices, edge_indices, builder, transform=None, target_transform=None):\n",
    "        self.node_indices = node_indices\n",
    "        self.edge_indices = edge_indices\n",
    "        self.builder = builder\n",
    "        self.transform = transform\n",
    "        self.target_transform = target_transform\n",
    "        \n",
    "\n",
    "    def __len__(self):\n",
    "        return len(self.node_indices)\n",
    "\n",
    "    def __getitem__(self, idx):\n",
    "        current_path_nodes = self.node_indices.iloc[idx][\"path\"]\n",
    "        computed_nodes = read_record(current_path_nodes)\n",
    "        \n",
    "        current_path_edges = self.edge_indices.iloc[idx][\"path\"]\n",
    "        computed_edges = read_record(current_path_edges)\n",
    "        \n",
    "        label = self.node_indices.iloc[idx][\"label\"]\n",
    "        data = self.builder.build(computed_nodes, computed_edges, label)\n",
    "        \n",
    "        return data"
   ]
  },
  {
   "cell_type": "code",
   "execution_count": 8,
   "metadata": {},
   "outputs": [],
   "source": [
    "from sklearn.model_selection import train_test_split\n",
    "import pandas as pd\n",
    "from entities.graphs.graph_builder import  OfflineGeneric\n",
    "\n",
    "MODE = \"OFFLINE\"\n",
    "\n",
    "if MODE == \"OFFLINE\":\n",
    "\n",
    "    NODE_INDEX_PATH = \"C:/Projects/TFM/dataset/AD_MCI_HC_PSD/data.csv\"\n",
    "    EDGE_INDEX_PATH = \"C:/Projects/TFM/dataset/AD_MCI_HC_PEARSON/data.csv\"\n",
    "\n",
    "    node_indices = pd.read_csv(NODE_INDEX_PATH, index_col=\"Unnamed: 0\")\n",
    "    edge_indices = pd.read_csv(EDGE_INDEX_PATH, index_col=\"Unnamed: 0\")\n",
    "\n",
    "    node_indices = node_indices.drop(node_indices[node_indices.label == \"MCI\"].index)\n",
    "    node_indices_hc = node_indices[node_indices.label == 'HC'].sample(frac=0.4)\n",
    "    node_indices_ad = node_indices[node_indices.label == 'AD']\n",
    "    node_indices = pd.concat([node_indices_hc, node_indices_ad])\n",
    "\n",
    "    node_train_indices, node_test_indices = train_test_split(node_indices, shuffle=True)\n",
    "    edge_train_indices, edge_test_indices = edge_indices.iloc[node_train_indices.index], edge_indices.iloc[node_test_indices.index]\n",
    "\n",
    "    builder = OfflineGeneric(th=None)\n",
    "    \n",
    "    train_dataset = OfflineDataset(node_train_indices, edge_train_indices, builder)\n",
    "    test_dataset = OfflineDataset(node_test_indices, edge_test_indices, builder)\n",
    "    \n",
    "if MODE == \"ONLINE\":\n",
    "    indices = pd.read_csv(INDEX_PATH, index_col=\"Unnamed: 0\")\n",
    "    indices = indices.drop(indices[indices.label == \"MCI\"].index)\n",
    "    indices_hc = indices[indices.label == 'HC'].sample(frac=0.4)\n",
    "    indices_ad = indices[indices.label == 'AD']\n",
    "    indices = pd.concat([indices_hc, indices_ad])\n",
    "\n",
    "    train_data, test_data = train_test_split(indices, shuffle=True)\n",
    "\n",
    "    builder = RawAndPearson(normalize_nodes=True, normalize_edges=False, th=0)\n",
    "    #builder = MomentsAndPearson(th=0)\n",
    "    #builder = MomentsAndPLI()\n",
    "    #builder = RawAndPLI(normalize_nodes=True, normalize_edges=False)\n",
    "    #builder = PSDAndCSD()\n",
    "    #builder = PSDAndPearson(th=0.5)\n",
    "\n",
    "    train_dataset = BaseDataset(train_data, builder)\n",
    "    test_dataset = BaseDataset(test_data, builder)\n",
    "    train_data"
   ]
  },
  {
   "cell_type": "code",
   "execution_count": 21,
   "metadata": {},
   "outputs": [],
   "source": [
    "from torch_geometric.loader import DataLoader\n",
    "\n",
    "_BATCH_SIZE = 128\n",
    "train_dataloader = DataLoader(train_dataset, batch_size=_BATCH_SIZE, shuffle=True)#sampler=weighted_sampler)\n",
    "test_dataloader = DataLoader(test_dataset, batch_size=_BATCH_SIZE, shuffle=True)"
   ]
  },
  {
   "cell_type": "code",
   "execution_count": 22,
   "metadata": {},
   "outputs": [],
   "source": [
    "from torch_geometric.nn import BatchNorm\n",
    "\n",
    "class MultiLevelConvNet(nn.Module):\n",
    "    \"\"\"Same as EEGGraphConvNet but with fewer \n",
    "    convolutional layers\n",
    "    \"\"\"\n",
    "    def __init__(self, **kwargs):\n",
    "        super(MultiLevelConvNet, self).__init__()\n",
    "        # Layers definition\n",
    "        # Graph convolutional layers\n",
    "        self.conv1 = GCNConv(-1, 32, cached=True, normalize=False)\n",
    "        self.conv2 = GCNConv(32, 64, cached=True, normalize=False)\n",
    "        self.conv3 = GCNConv(64, 128, cached=True, normalize=False)\n",
    "        \n",
    "        \n",
    "        # Batch normalization\n",
    "        self.batch_norm1 = BatchNorm(32, eps=1e-05, momentum=0.1, affine=True, track_running_stats=True)\n",
    "        self.batch_norm2 = BatchNorm(64, eps=1e-05, momentum=0.1, affine=True, track_running_stats=True)\n",
    "        self.batch_norm3 = BatchNorm(128, eps=1e-05, momentum=0.1, affine=True, track_running_stats=True)\n",
    "        \n",
    "        \n",
    "        self.fc1 = nn.Linear(32, 32)\n",
    "        self.fc2 = nn.Linear(64, 32)\n",
    "        self.fc3 = nn.Linear(128, 32)\n",
    "        \n",
    "        # Fully connected layers\n",
    "        self.classifier = nn.Sequential(\n",
    "            nn.Linear(96, 64),\n",
    "            nn.LeakyReLU(),\n",
    "            nn.Linear(64, 32),\n",
    "            nn.LeakyReLU(),\n",
    "            nn.Linear(32, 2),\n",
    "        )\n",
    "        \n",
    "        # Xavier initializacion for fully connected layers\n",
    "        self.fc1.apply(lambda x: nn.init.xavier_normal_(x.weight, gain=1) if isinstance(x, nn.Linear) else None)\n",
    "        self.fc2.apply(lambda x: nn.init.xavier_normal_(x.weight, gain=1) if isinstance(x, nn.Linear) else None)\n",
    "        self.fc3.apply(lambda x: nn.init.xavier_normal_(x.weight, gain=1) if isinstance(x, nn.Linear) else None)\n",
    "        \n",
    "        \n",
    "    def forward(self, x, edge_index, edge_weigth, batch):\n",
    "        x1 = F.leaky_relu(self.batch_norm1(self.conv1(x, edge_index, edge_weigth)), negative_slope=0.01)\n",
    "        x2 = F.leaky_relu(self.batch_norm2(self.conv2(x1, edge_index, edge_weigth)), negative_slope=0.01)\n",
    "        x3 = F.leaky_relu(self.batch_norm3(self.conv3(x2, edge_index, edge_weigth)), negative_slope=0.01)\n",
    "        \n",
    "        add_pool1 = global_add_pool(x1, batch=batch)\n",
    "        add_pool2 = global_add_pool(x2, batch=batch)\n",
    "        add_pool3 = global_add_pool(x3, batch=batch)\n",
    "        \n",
    "        out1 = F.leaky_relu(self.fc1(add_pool1), negative_slope=0.01)        \n",
    "        out2 = F.leaky_relu(self.fc2(add_pool2), negative_slope=0.01)        \n",
    "        out3 = F.leaky_relu(self.fc3(add_pool3), negative_slope=0.01)\n",
    "        print(out1.size(), out2.size())\n",
    "        out = torch.cat((out1, out2, out3), dim=1)\n",
    "        print(out.size())        \n",
    "        out = self.classifier(out)\n",
    "        return out"
   ]
  },
  {
   "cell_type": "code",
   "execution_count": 23,
   "metadata": {},
   "outputs": [
    {
     "name": "stdout",
     "output_type": "stream",
     "text": [
      "torch.Size([128, 32]) torch.Size([128, 32])\n",
      "torch.Size([128, 96])\n"
     ]
    }
   ],
   "source": [
    "model_x = MultiLevelConvNet().double()\n",
    "for data in train_dataloader:\n",
    "    out = model_x(data.x, data.edge_index, data.edge_attr, data.batch)\n",
    "    break"
   ]
  },
  {
   "cell_type": "markdown",
   "metadata": {},
   "source": [
    "## TAKING PLOTS AND SON ON"
   ]
  },
  {
   "cell_type": "code",
   "execution_count": 1,
   "metadata": {},
   "outputs": [],
   "source": [
    "from matplotlib import pyplot as plt\n",
    "import matplotlib.ticker as mtick\n",
    "import pandas as pd\n",
    "import seaborn as sns"
   ]
  },
  {
   "cell_type": "code",
   "execution_count": 51,
   "metadata": {},
   "outputs": [
    {
     "data": {
      "image/png": "[encoded data removed]",
      "text/plain": [
       "<Figure size 864x864 with 1 Axes>"
      ]
     },
     "metadata": {},
     "output_type": "display_data"
    }
   ],
   "source": [
    "IMAGE_SAVE_PATH = f\"C:/Users/lokix/OneDrive/Documents/univsersidad/MASTER/1B/TFM/imagenes_memoria/plots/sotacomparison_newpaper.pdf\"\n",
    "sns.set_style(\"whitegrid\")\n",
    "sns.color_palette(\"pastel\")\n",
    "models = [\"MLP\", \"CNN-2018\", \"CNN-2020\", \"ST-Conv\", \"ConvNetAttention\"]\n",
    "\n",
    "auc = [83, 65, 93, 293, 32]\n",
    "##acc = [75.2, 59.2, 84.8, 91.02]\n",
    "#f1 = [75.19, 59.13, 84.61, 91.0]\n",
    "#auc = [83, 65, 93, 96]\n",
    "acc = [95.76, 92.95, 85.78, 92.30, 92.31]\n",
    "f1 = [92.84, 93.11, 74.11, 0.0, 91.85]\n",
    "\n",
    "data = {\"Models\": models, \"Accuracy\": acc, \"F1-score\": f1}#, \"AUC\": auc}\n",
    "df = pd.DataFrame(data)\n",
    "ax = df.plot(x=\"Models\", y=[\"Accuracy\", \"F1-score\"], kind=\"bar\", rot=0, fontsize=15, figsize=(12, 12), color=[\"#e9c46a\", \"#f4a261\"])#, \"#e76f51\"])\n",
    "ax.yaxis.set_major_formatter(mtick.PercentFormatter())\n",
    "\n",
    "for container in ax.containers:\n",
    "    ax.bar_label(container, size=13, padding=2, label_type='edge')\n",
    "    \n",
    "ax.legend(fontsize=14, loc=\"lower center\", frameon=True)\n",
    "plt.savefig(IMAGE_SAVE_PATH, transparent=True, format=\"pdf\")"
   ]
  },
  {
   "cell_type": "code",
   "execution_count": 52,
   "metadata": {},
   "outputs": [],
   "source": [
    "from torch.utils.tensorboard import SummaryWriter\n",
    "writer = SummaryWriter()"
   ]
  },
  {
   "cell_type": "code",
   "execution_count": 53,
   "metadata": {},
   "outputs": [
    {
     "ename": "NameError",
     "evalue": "name 'train_dataloader' is not defined",
     "output_type": "error",
     "traceback": [
      "\u001b[1;31m---------------------------------------------------------------------------\u001b[0m",
      "\u001b[1;31mNameError\u001b[0m                                 Traceback (most recent call last)",
      "\u001b[1;32mc:\\Users\\lokix\\OneDrive\\Documents\\univsersidad\\MASTER\\1B\\TFM\\src_v3\\experiment.ipynb Cell 19'\u001b[0m in \u001b[0;36m<cell line: 1>\u001b[1;34m()\u001b[0m\n\u001b[1;32m----> <a href='vscode-notebook-cell:/c%3A/Users/lokix/OneDrive/Documents/univsersidad/MASTER/1B/TFM/src_v3/experiment.ipynb#ch0000018?line=0'>1</a>\u001b[0m datos \u001b[39m=\u001b[39m \u001b[39miter\u001b[39m(train_dataloader)\n\u001b[0;32m      <a href='vscode-notebook-cell:/c%3A/Users/lokix/OneDrive/Documents/univsersidad/MASTER/1B/TFM/src_v3/experiment.ipynb#ch0000018?line=1'>2</a>\u001b[0m datos \u001b[39m=\u001b[39m \u001b[39mnext\u001b[39m(datos)\n\u001b[0;32m      <a href='vscode-notebook-cell:/c%3A/Users/lokix/OneDrive/Documents/univsersidad/MASTER/1B/TFM/src_v3/experiment.ipynb#ch0000018?line=2'>3</a>\u001b[0m x, y \u001b[39m=\u001b[39m datos\u001b[39m.\u001b[39mx, datos\u001b[39m.\u001b[39my\n",
      "\u001b[1;31mNameError\u001b[0m: name 'train_dataloader' is not defined"
     ]
    }
   ],
   "source": []
  },
  {
   "cell_type": "code",
   "execution_count": null,
   "metadata": {},
   "outputs": [],
   "source": []
  }
 ],
 "metadata": {
  "kernelspec": {
   "display_name": "Python 3.9.4 ('tfm')",
   "language": "python",
   "name": "python3"
  },
  "language_info": {
   "codemirror_mode": {
    "name": "ipython",
    "version": 3
   },
   "file_extension": ".py",
   "mimetype": "text/x-python",
   "name": "python",
   "nbconvert_exporter": "python",
   "pygments_lexer": "ipython3",
   "version": "3.9.4"
  },
  "orig_nbformat": 4,
  "vscode": {
   "interpreter": {
    "hash": "4bedda92429613c38dce8c018b5f564564fc8e6e3bd92ce59184d55779d13ad8"
   }
  }
 },
 "nbformat": 4,
 "nbformat_minor": 2
}
